{
 "cells": [
  {
   "cell_type": "markdown",
   "id": "4ba99ee0",
   "metadata": {},
   "source": [
    "### Import Libraries"
   ]
  },
  {
   "cell_type": "code",
   "execution_count": 18,
   "id": "7abe7f83",
   "metadata": {},
   "outputs": [],
   "source": [
    "import pandas as pd\n",
    "import numpy as np\n",
    "import matplotlib.pyplot as plt\n",
    "import seaborn as sns\n",
    "%matplotlib inline"
   ]
  },
  {
   "cell_type": "markdown",
   "id": "13cb7db6",
   "metadata": {},
   "source": [
    "### Load Dataset"
   ]
  },
  {
   "cell_type": "code",
   "execution_count": 19,
   "id": "358fde07",
   "metadata": {
    "scrolled": true
   },
   "outputs": [
    {
     "data": {
      "text/html": [
       "<div>\n",
       "<style scoped>\n",
       "    .dataframe tbody tr th:only-of-type {\n",
       "        vertical-align: middle;\n",
       "    }\n",
       "\n",
       "    .dataframe tbody tr th {\n",
       "        vertical-align: top;\n",
       "    }\n",
       "\n",
       "    .dataframe thead th {\n",
       "        text-align: right;\n",
       "    }\n",
       "</style>\n",
       "<table border=\"1\" class=\"dataframe\">\n",
       "  <thead>\n",
       "    <tr style=\"text-align: right;\">\n",
       "      <th></th>\n",
       "      <th>name</th>\n",
       "      <th>year</th>\n",
       "      <th>selling_price</th>\n",
       "      <th>km_driven</th>\n",
       "      <th>fuel</th>\n",
       "      <th>seller_type</th>\n",
       "      <th>transmission</th>\n",
       "      <th>owner</th>\n",
       "    </tr>\n",
       "  </thead>\n",
       "  <tbody>\n",
       "    <tr>\n",
       "      <th>0</th>\n",
       "      <td>Maruti 800 AC</td>\n",
       "      <td>2007</td>\n",
       "      <td>60000</td>\n",
       "      <td>70000</td>\n",
       "      <td>Petrol</td>\n",
       "      <td>Individual</td>\n",
       "      <td>Manual</td>\n",
       "      <td>First Owner</td>\n",
       "    </tr>\n",
       "    <tr>\n",
       "      <th>1</th>\n",
       "      <td>Maruti Wagon R LXI Minor</td>\n",
       "      <td>2007</td>\n",
       "      <td>135000</td>\n",
       "      <td>50000</td>\n",
       "      <td>Petrol</td>\n",
       "      <td>Individual</td>\n",
       "      <td>Manual</td>\n",
       "      <td>First Owner</td>\n",
       "    </tr>\n",
       "    <tr>\n",
       "      <th>2</th>\n",
       "      <td>Hyundai Verna 1.6 SX</td>\n",
       "      <td>2012</td>\n",
       "      <td>600000</td>\n",
       "      <td>100000</td>\n",
       "      <td>Diesel</td>\n",
       "      <td>Individual</td>\n",
       "      <td>Manual</td>\n",
       "      <td>First Owner</td>\n",
       "    </tr>\n",
       "    <tr>\n",
       "      <th>3</th>\n",
       "      <td>Datsun RediGO T Option</td>\n",
       "      <td>2017</td>\n",
       "      <td>250000</td>\n",
       "      <td>46000</td>\n",
       "      <td>Petrol</td>\n",
       "      <td>Individual</td>\n",
       "      <td>Manual</td>\n",
       "      <td>First Owner</td>\n",
       "    </tr>\n",
       "    <tr>\n",
       "      <th>4</th>\n",
       "      <td>Honda Amaze VX i-DTEC</td>\n",
       "      <td>2014</td>\n",
       "      <td>450000</td>\n",
       "      <td>141000</td>\n",
       "      <td>Diesel</td>\n",
       "      <td>Individual</td>\n",
       "      <td>Manual</td>\n",
       "      <td>Second Owner</td>\n",
       "    </tr>\n",
       "  </tbody>\n",
       "</table>\n",
       "</div>"
      ],
      "text/plain": [
       "                       name  year  selling_price  km_driven    fuel  \\\n",
       "0             Maruti 800 AC  2007          60000      70000  Petrol   \n",
       "1  Maruti Wagon R LXI Minor  2007         135000      50000  Petrol   \n",
       "2      Hyundai Verna 1.6 SX  2012         600000     100000  Diesel   \n",
       "3    Datsun RediGO T Option  2017         250000      46000  Petrol   \n",
       "4     Honda Amaze VX i-DTEC  2014         450000     141000  Diesel   \n",
       "\n",
       "  seller_type transmission         owner  \n",
       "0  Individual       Manual   First Owner  \n",
       "1  Individual       Manual   First Owner  \n",
       "2  Individual       Manual   First Owner  \n",
       "3  Individual       Manual   First Owner  \n",
       "4  Individual       Manual  Second Owner  "
      ]
     },
     "execution_count": 19,
     "metadata": {},
     "output_type": "execute_result"
    }
   ],
   "source": [
    "df = pd.read_csv('CAR DETAILS.csv')\n",
    "df.head()"
   ]
  },
  {
   "cell_type": "markdown",
   "id": "67a31d56",
   "metadata": {},
   "source": [
    "## Data preprocessing"
   ]
  },
  {
   "cell_type": "code",
   "execution_count": 20,
   "id": "83b5073a",
   "metadata": {},
   "outputs": [
    {
     "data": {
      "text/plain": [
       "(4339, 8)"
      ]
     },
     "execution_count": 20,
     "metadata": {},
     "output_type": "execute_result"
    }
   ],
   "source": [
    "df.shape"
   ]
  },
  {
   "cell_type": "code",
   "execution_count": 21,
   "id": "8664b0bd",
   "metadata": {},
   "outputs": [
    {
     "data": {
      "text/plain": [
       "763"
      ]
     },
     "execution_count": 21,
     "metadata": {},
     "output_type": "execute_result"
    }
   ],
   "source": [
    "df.duplicated().sum()"
   ]
  },
  {
   "cell_type": "markdown",
   "id": "b6b78cd9",
   "metadata": {},
   "source": [
    "#### Remove duplicates"
   ]
  },
  {
   "cell_type": "code",
   "execution_count": 22,
   "id": "a847724d",
   "metadata": {},
   "outputs": [
    {
     "data": {
      "text/plain": [
       "(3576, 8)"
      ]
     },
     "execution_count": 22,
     "metadata": {},
     "output_type": "execute_result"
    }
   ],
   "source": [
    "df = df.drop_duplicates() \n",
    "df.shape"
   ]
  },
  {
   "cell_type": "code",
   "execution_count": 23,
   "id": "446f5947",
   "metadata": {
    "scrolled": true
   },
   "outputs": [
    {
     "data": {
      "text/html": [
       "<div>\n",
       "<style scoped>\n",
       "    .dataframe tbody tr th:only-of-type {\n",
       "        vertical-align: middle;\n",
       "    }\n",
       "\n",
       "    .dataframe tbody tr th {\n",
       "        vertical-align: top;\n",
       "    }\n",
       "\n",
       "    .dataframe thead th {\n",
       "        text-align: right;\n",
       "    }\n",
       "</style>\n",
       "<table border=\"1\" class=\"dataframe\">\n",
       "  <thead>\n",
       "    <tr style=\"text-align: right;\">\n",
       "      <th></th>\n",
       "      <th>year</th>\n",
       "      <th>selling_price</th>\n",
       "      <th>km_driven</th>\n",
       "    </tr>\n",
       "  </thead>\n",
       "  <tbody>\n",
       "    <tr>\n",
       "      <th>count</th>\n",
       "      <td>3576.000000</td>\n",
       "      <td>3.576000e+03</td>\n",
       "      <td>3576.000000</td>\n",
       "    </tr>\n",
       "    <tr>\n",
       "      <th>mean</th>\n",
       "      <td>2012.964485</td>\n",
       "      <td>4.739584e+05</td>\n",
       "      <td>69252.573266</td>\n",
       "    </tr>\n",
       "    <tr>\n",
       "      <th>std</th>\n",
       "      <td>4.250759</td>\n",
       "      <td>5.093657e+05</td>\n",
       "      <td>47586.439537</td>\n",
       "    </tr>\n",
       "    <tr>\n",
       "      <th>min</th>\n",
       "      <td>1992.000000</td>\n",
       "      <td>2.000000e+04</td>\n",
       "      <td>1.000000</td>\n",
       "    </tr>\n",
       "    <tr>\n",
       "      <th>25%</th>\n",
       "      <td>2010.000000</td>\n",
       "      <td>2.000000e+05</td>\n",
       "      <td>36000.000000</td>\n",
       "    </tr>\n",
       "    <tr>\n",
       "      <th>50%</th>\n",
       "      <td>2013.000000</td>\n",
       "      <td>3.500000e+05</td>\n",
       "      <td>60000.000000</td>\n",
       "    </tr>\n",
       "    <tr>\n",
       "      <th>75%</th>\n",
       "      <td>2016.000000</td>\n",
       "      <td>6.000000e+05</td>\n",
       "      <td>90000.000000</td>\n",
       "    </tr>\n",
       "    <tr>\n",
       "      <th>max</th>\n",
       "      <td>2020.000000</td>\n",
       "      <td>8.900000e+06</td>\n",
       "      <td>806599.000000</td>\n",
       "    </tr>\n",
       "  </tbody>\n",
       "</table>\n",
       "</div>"
      ],
      "text/plain": [
       "              year  selling_price      km_driven\n",
       "count  3576.000000   3.576000e+03    3576.000000\n",
       "mean   2012.964485   4.739584e+05   69252.573266\n",
       "std       4.250759   5.093657e+05   47586.439537\n",
       "min    1992.000000   2.000000e+04       1.000000\n",
       "25%    2010.000000   2.000000e+05   36000.000000\n",
       "50%    2013.000000   3.500000e+05   60000.000000\n",
       "75%    2016.000000   6.000000e+05   90000.000000\n",
       "max    2020.000000   8.900000e+06  806599.000000"
      ]
     },
     "execution_count": 23,
     "metadata": {},
     "output_type": "execute_result"
    }
   ],
   "source": [
    "df.describe()"
   ]
  },
  {
   "cell_type": "markdown",
   "id": "fbb0b24b",
   "metadata": {},
   "source": [
    "#### Check the shape and datatype"
   ]
  },
  {
   "cell_type": "code",
   "execution_count": 24,
   "id": "398a41a3",
   "metadata": {},
   "outputs": [
    {
     "name": "stdout",
     "output_type": "stream",
     "text": [
      "(3576, 8)\n",
      "name             object\n",
      "year              int64\n",
      "selling_price     int64\n",
      "km_driven         int64\n",
      "fuel             object\n",
      "seller_type      object\n",
      "transmission     object\n",
      "owner            object\n",
      "dtype: object\n"
     ]
    }
   ],
   "source": [
    "print(df.shape)\n",
    "print(df.dtypes) "
   ]
  },
  {
   "cell_type": "markdown",
   "id": "1f2cc65d",
   "metadata": {},
   "source": [
    "#### Check null values"
   ]
  },
  {
   "cell_type": "code",
   "execution_count": 25,
   "id": "5ec5499d",
   "metadata": {},
   "outputs": [
    {
     "data": {
      "text/plain": [
       "name             0\n",
       "year             0\n",
       "selling_price    0\n",
       "km_driven        0\n",
       "fuel             0\n",
       "seller_type      0\n",
       "transmission     0\n",
       "owner            0\n",
       "dtype: int64"
      ]
     },
     "execution_count": 25,
     "metadata": {},
     "output_type": "execute_result"
    }
   ],
   "source": [
    "df.isnull().sum()"
   ]
  },
  {
   "cell_type": "code",
   "execution_count": 27,
   "id": "222c1005",
   "metadata": {},
   "outputs": [
    {
     "data": {
      "text/plain": [
       "Index(['name', 'year', 'selling_price', 'km_driven', 'fuel', 'seller_type',\n",
       "       'transmission', 'owner'],\n",
       "      dtype='object')"
      ]
     },
     "execution_count": 27,
     "metadata": {},
     "output_type": "execute_result"
    }
   ],
   "source": [
    "df.columns"
   ]
  },
  {
   "cell_type": "markdown",
   "id": "27cca43d",
   "metadata": {},
   "source": [
    "#### Check value counts of all columns"
   ]
  },
  {
   "cell_type": "code",
   "execution_count": 28,
   "id": "9a71145b",
   "metadata": {},
   "outputs": [
    {
     "data": {
      "text/plain": [
       "Maruti Swift Dzire VDI               54\n",
       "Maruti Alto 800 LXI                  48\n",
       "Maruti Alto LXi                      42\n",
       "Maruti Alto LX                       30\n",
       "Hyundai EON Era Plus                 28\n",
       "                                     ..\n",
       "Toyota Innova 2.5 E 8 STR             1\n",
       "Nissan Micra XL CVT                   1\n",
       "Mahindra Scorpio VLX AT 2WD BSIII     1\n",
       "Toyota Corolla AE                     1\n",
       "Hyundai i20 Magna 1.4 CRDi            1\n",
       "Name: name, Length: 1490, dtype: int64"
      ]
     },
     "execution_count": 28,
     "metadata": {},
     "output_type": "execute_result"
    }
   ],
   "source": [
    "df['name'].value_counts()"
   ]
  },
  {
   "cell_type": "code",
   "execution_count": 29,
   "id": "65a1228f",
   "metadata": {},
   "outputs": [
    {
     "data": {
      "text/plain": [
       "2017    346\n",
       "2012    338\n",
       "2015    332\n",
       "2014    321\n",
       "2013    298\n",
       "2018    295\n",
       "2016    283\n",
       "2011    247\n",
       "2010    210\n",
       "2009    169\n",
       "2019    162\n",
       "2008    129\n",
       "2007    117\n",
       "2006     92\n",
       "2005     61\n",
       "2020     45\n",
       "2004     38\n",
       "2003     22\n",
       "2002     18\n",
       "2001     16\n",
       "2000     12\n",
       "1998      9\n",
       "1999      9\n",
       "1997      3\n",
       "1996      2\n",
       "1995      1\n",
       "1992      1\n",
       "Name: year, dtype: int64"
      ]
     },
     "execution_count": 29,
     "metadata": {},
     "output_type": "execute_result"
    }
   ],
   "source": [
    "df['year'].value_counts()"
   ]
  },
  {
   "cell_type": "code",
   "execution_count": 30,
   "id": "92d4aefb",
   "metadata": {},
   "outputs": [
    {
     "data": {
      "text/plain": [
       "Diesel    1800\n",
       "Petrol    1717\n",
       "CNG         37\n",
       "LPG         22\n",
       "Name: fuel, dtype: int64"
      ]
     },
     "execution_count": 30,
     "metadata": {},
     "output_type": "execute_result"
    }
   ],
   "source": [
    "df['fuel'].value_counts()"
   ]
  },
  {
   "cell_type": "code",
   "execution_count": 32,
   "id": "20ea7d4a",
   "metadata": {},
   "outputs": [
    {
     "data": {
      "text/plain": [
       "First Owner             2218\n",
       "Second Owner             977\n",
       "Third Owner              289\n",
       "Fourth & Above Owner      75\n",
       "Test Drive Car            17\n",
       "Name: owner, dtype: int64"
      ]
     },
     "execution_count": 32,
     "metadata": {},
     "output_type": "execute_result"
    }
   ],
   "source": [
    "df['owner'].value_counts()"
   ]
  },
  {
   "cell_type": "code",
   "execution_count": 33,
   "id": "4a04137b",
   "metadata": {},
   "outputs": [
    {
     "data": {
      "text/plain": [
       "Individual          2832\n",
       "Dealer               711\n",
       "Trustmark Dealer      33\n",
       "Name: seller_type, dtype: int64"
      ]
     },
     "execution_count": 33,
     "metadata": {},
     "output_type": "execute_result"
    }
   ],
   "source": [
    "df['seller_type'].value_counts()"
   ]
  },
  {
   "cell_type": "code",
   "execution_count": 34,
   "id": "ff9d2a6b",
   "metadata": {},
   "outputs": [],
   "source": [
    "df.drop('seller_type',axis=1, inplace=True) # Drop Seller_type as not usable"
   ]
  },
  {
   "cell_type": "markdown",
   "id": "cbc990d5",
   "metadata": {},
   "source": [
    "### Data Cleaning "
   ]
  },
  {
   "cell_type": "code",
   "execution_count": 35,
   "id": "67cae1b9",
   "metadata": {},
   "outputs": [
    {
     "data": {
      "text/html": [
       "<div>\n",
       "<style scoped>\n",
       "    .dataframe tbody tr th:only-of-type {\n",
       "        vertical-align: middle;\n",
       "    }\n",
       "\n",
       "    .dataframe tbody tr th {\n",
       "        vertical-align: top;\n",
       "    }\n",
       "\n",
       "    .dataframe thead th {\n",
       "        text-align: right;\n",
       "    }\n",
       "</style>\n",
       "<table border=\"1\" class=\"dataframe\">\n",
       "  <thead>\n",
       "    <tr style=\"text-align: right;\">\n",
       "      <th></th>\n",
       "      <th>name</th>\n",
       "      <th>year</th>\n",
       "      <th>selling_price</th>\n",
       "      <th>km_driven</th>\n",
       "      <th>fuel</th>\n",
       "      <th>transmission</th>\n",
       "      <th>owner</th>\n",
       "      <th>brand</th>\n",
       "    </tr>\n",
       "  </thead>\n",
       "  <tbody>\n",
       "    <tr>\n",
       "      <th>0</th>\n",
       "      <td>Maruti 800 AC</td>\n",
       "      <td>2007</td>\n",
       "      <td>60000</td>\n",
       "      <td>70000</td>\n",
       "      <td>Petrol</td>\n",
       "      <td>Manual</td>\n",
       "      <td>First Owner</td>\n",
       "      <td>Maruti</td>\n",
       "    </tr>\n",
       "    <tr>\n",
       "      <th>1</th>\n",
       "      <td>Maruti Wagon R LXI Minor</td>\n",
       "      <td>2007</td>\n",
       "      <td>135000</td>\n",
       "      <td>50000</td>\n",
       "      <td>Petrol</td>\n",
       "      <td>Manual</td>\n",
       "      <td>First Owner</td>\n",
       "      <td>Maruti</td>\n",
       "    </tr>\n",
       "    <tr>\n",
       "      <th>2</th>\n",
       "      <td>Hyundai Verna 1.6 SX</td>\n",
       "      <td>2012</td>\n",
       "      <td>600000</td>\n",
       "      <td>100000</td>\n",
       "      <td>Diesel</td>\n",
       "      <td>Manual</td>\n",
       "      <td>First Owner</td>\n",
       "      <td>Hyundai</td>\n",
       "    </tr>\n",
       "    <tr>\n",
       "      <th>3</th>\n",
       "      <td>Datsun RediGO T Option</td>\n",
       "      <td>2017</td>\n",
       "      <td>250000</td>\n",
       "      <td>46000</td>\n",
       "      <td>Petrol</td>\n",
       "      <td>Manual</td>\n",
       "      <td>First Owner</td>\n",
       "      <td>Datsun</td>\n",
       "    </tr>\n",
       "    <tr>\n",
       "      <th>4</th>\n",
       "      <td>Honda Amaze VX i-DTEC</td>\n",
       "      <td>2014</td>\n",
       "      <td>450000</td>\n",
       "      <td>141000</td>\n",
       "      <td>Diesel</td>\n",
       "      <td>Manual</td>\n",
       "      <td>Second Owner</td>\n",
       "      <td>Honda</td>\n",
       "    </tr>\n",
       "  </tbody>\n",
       "</table>\n",
       "</div>"
      ],
      "text/plain": [
       "                       name  year  selling_price  km_driven    fuel  \\\n",
       "0             Maruti 800 AC  2007          60000      70000  Petrol   \n",
       "1  Maruti Wagon R LXI Minor  2007         135000      50000  Petrol   \n",
       "2      Hyundai Verna 1.6 SX  2012         600000     100000  Diesel   \n",
       "3    Datsun RediGO T Option  2017         250000      46000  Petrol   \n",
       "4     Honda Amaze VX i-DTEC  2014         450000     141000  Diesel   \n",
       "\n",
       "  transmission         owner    brand  \n",
       "0       Manual   First Owner   Maruti  \n",
       "1       Manual   First Owner   Maruti  \n",
       "2       Manual   First Owner  Hyundai  \n",
       "3       Manual   First Owner   Datsun  \n",
       "4       Manual  Second Owner    Honda  "
      ]
     },
     "execution_count": 35,
     "metadata": {},
     "output_type": "execute_result"
    }
   ],
   "source": [
    "df['brand'] = df['name'].str.split(expand=True)[0]\n",
    "df.head()"
   ]
  },
  {
   "cell_type": "code",
   "execution_count": 36,
   "id": "12702417",
   "metadata": {},
   "outputs": [
    {
     "data": {
      "text/html": [
       "<div>\n",
       "<style scoped>\n",
       "    .dataframe tbody tr th:only-of-type {\n",
       "        vertical-align: middle;\n",
       "    }\n",
       "\n",
       "    .dataframe tbody tr th {\n",
       "        vertical-align: top;\n",
       "    }\n",
       "\n",
       "    .dataframe thead th {\n",
       "        text-align: right;\n",
       "    }\n",
       "</style>\n",
       "<table border=\"1\" class=\"dataframe\">\n",
       "  <thead>\n",
       "    <tr style=\"text-align: right;\">\n",
       "      <th></th>\n",
       "      <th>name</th>\n",
       "      <th>year</th>\n",
       "      <th>selling_price</th>\n",
       "      <th>km_driven</th>\n",
       "      <th>fuel</th>\n",
       "      <th>transmission</th>\n",
       "      <th>owner</th>\n",
       "      <th>brand</th>\n",
       "      <th>names</th>\n",
       "    </tr>\n",
       "  </thead>\n",
       "  <tbody>\n",
       "    <tr>\n",
       "      <th>0</th>\n",
       "      <td>Maruti 800 AC</td>\n",
       "      <td>2007</td>\n",
       "      <td>60000</td>\n",
       "      <td>70000</td>\n",
       "      <td>Petrol</td>\n",
       "      <td>Manual</td>\n",
       "      <td>First Owner</td>\n",
       "      <td>Maruti</td>\n",
       "      <td>800</td>\n",
       "    </tr>\n",
       "    <tr>\n",
       "      <th>1</th>\n",
       "      <td>Maruti Wagon R LXI Minor</td>\n",
       "      <td>2007</td>\n",
       "      <td>135000</td>\n",
       "      <td>50000</td>\n",
       "      <td>Petrol</td>\n",
       "      <td>Manual</td>\n",
       "      <td>First Owner</td>\n",
       "      <td>Maruti</td>\n",
       "      <td>Wagon</td>\n",
       "    </tr>\n",
       "    <tr>\n",
       "      <th>2</th>\n",
       "      <td>Hyundai Verna 1.6 SX</td>\n",
       "      <td>2012</td>\n",
       "      <td>600000</td>\n",
       "      <td>100000</td>\n",
       "      <td>Diesel</td>\n",
       "      <td>Manual</td>\n",
       "      <td>First Owner</td>\n",
       "      <td>Hyundai</td>\n",
       "      <td>Verna</td>\n",
       "    </tr>\n",
       "    <tr>\n",
       "      <th>3</th>\n",
       "      <td>Datsun RediGO T Option</td>\n",
       "      <td>2017</td>\n",
       "      <td>250000</td>\n",
       "      <td>46000</td>\n",
       "      <td>Petrol</td>\n",
       "      <td>Manual</td>\n",
       "      <td>First Owner</td>\n",
       "      <td>Datsun</td>\n",
       "      <td>RediGO</td>\n",
       "    </tr>\n",
       "    <tr>\n",
       "      <th>4</th>\n",
       "      <td>Honda Amaze VX i-DTEC</td>\n",
       "      <td>2014</td>\n",
       "      <td>450000</td>\n",
       "      <td>141000</td>\n",
       "      <td>Diesel</td>\n",
       "      <td>Manual</td>\n",
       "      <td>Second Owner</td>\n",
       "      <td>Honda</td>\n",
       "      <td>Amaze</td>\n",
       "    </tr>\n",
       "  </tbody>\n",
       "</table>\n",
       "</div>"
      ],
      "text/plain": [
       "                       name  year  selling_price  km_driven    fuel  \\\n",
       "0             Maruti 800 AC  2007          60000      70000  Petrol   \n",
       "1  Maruti Wagon R LXI Minor  2007         135000      50000  Petrol   \n",
       "2      Hyundai Verna 1.6 SX  2012         600000     100000  Diesel   \n",
       "3    Datsun RediGO T Option  2017         250000      46000  Petrol   \n",
       "4     Honda Amaze VX i-DTEC  2014         450000     141000  Diesel   \n",
       "\n",
       "  transmission         owner    brand   names  \n",
       "0       Manual   First Owner   Maruti     800  \n",
       "1       Manual   First Owner   Maruti   Wagon  \n",
       "2       Manual   First Owner  Hyundai   Verna  \n",
       "3       Manual   First Owner   Datsun  RediGO  \n",
       "4       Manual  Second Owner    Honda   Amaze  "
      ]
     },
     "execution_count": 36,
     "metadata": {},
     "output_type": "execute_result"
    }
   ],
   "source": [
    "df['names'] = df['name'].str.split(expand=True)[1]\n",
    "df.head()"
   ]
  },
  {
   "cell_type": "markdown",
   "id": "6856dc95",
   "metadata": {},
   "source": [
    "###### Removing the rows whose number of count is less than 5 in names"
   ]
  },
  {
   "cell_type": "code",
   "execution_count": 38,
   "id": "52384ab1",
   "metadata": {},
   "outputs": [
    {
     "data": {
      "text/plain": [
       "(3432, 9)"
      ]
     },
     "execution_count": 38,
     "metadata": {},
     "output_type": "execute_result"
    }
   ],
   "source": [
    "q = df.names.value_counts()\n",
    "df0 = df[~df['names'].isin(q[q<5].index)]\n",
    "df0.shape"
   ]
  },
  {
   "cell_type": "code",
   "execution_count": 39,
   "id": "9f911d61",
   "metadata": {},
   "outputs": [
    {
     "data": {
      "text/html": [
       "<div>\n",
       "<style scoped>\n",
       "    .dataframe tbody tr th:only-of-type {\n",
       "        vertical-align: middle;\n",
       "    }\n",
       "\n",
       "    .dataframe tbody tr th {\n",
       "        vertical-align: top;\n",
       "    }\n",
       "\n",
       "    .dataframe thead th {\n",
       "        text-align: right;\n",
       "    }\n",
       "</style>\n",
       "<table border=\"1\" class=\"dataframe\">\n",
       "  <thead>\n",
       "    <tr style=\"text-align: right;\">\n",
       "      <th></th>\n",
       "      <th>year</th>\n",
       "      <th>selling_price</th>\n",
       "      <th>km_driven</th>\n",
       "      <th>fuel</th>\n",
       "      <th>transmission</th>\n",
       "      <th>owner</th>\n",
       "      <th>brand</th>\n",
       "      <th>names</th>\n",
       "    </tr>\n",
       "  </thead>\n",
       "  <tbody>\n",
       "    <tr>\n",
       "      <th>0</th>\n",
       "      <td>2007</td>\n",
       "      <td>60000</td>\n",
       "      <td>70000</td>\n",
       "      <td>Petrol</td>\n",
       "      <td>Manual</td>\n",
       "      <td>First Owner</td>\n",
       "      <td>Maruti</td>\n",
       "      <td>800</td>\n",
       "    </tr>\n",
       "    <tr>\n",
       "      <th>1</th>\n",
       "      <td>2007</td>\n",
       "      <td>135000</td>\n",
       "      <td>50000</td>\n",
       "      <td>Petrol</td>\n",
       "      <td>Manual</td>\n",
       "      <td>First Owner</td>\n",
       "      <td>Maruti</td>\n",
       "      <td>Wagon</td>\n",
       "    </tr>\n",
       "    <tr>\n",
       "      <th>2</th>\n",
       "      <td>2012</td>\n",
       "      <td>600000</td>\n",
       "      <td>100000</td>\n",
       "      <td>Diesel</td>\n",
       "      <td>Manual</td>\n",
       "      <td>First Owner</td>\n",
       "      <td>Hyundai</td>\n",
       "      <td>Verna</td>\n",
       "    </tr>\n",
       "    <tr>\n",
       "      <th>3</th>\n",
       "      <td>2017</td>\n",
       "      <td>250000</td>\n",
       "      <td>46000</td>\n",
       "      <td>Petrol</td>\n",
       "      <td>Manual</td>\n",
       "      <td>First Owner</td>\n",
       "      <td>Datsun</td>\n",
       "      <td>RediGO</td>\n",
       "    </tr>\n",
       "    <tr>\n",
       "      <th>4</th>\n",
       "      <td>2014</td>\n",
       "      <td>450000</td>\n",
       "      <td>141000</td>\n",
       "      <td>Diesel</td>\n",
       "      <td>Manual</td>\n",
       "      <td>Second Owner</td>\n",
       "      <td>Honda</td>\n",
       "      <td>Amaze</td>\n",
       "    </tr>\n",
       "  </tbody>\n",
       "</table>\n",
       "</div>"
      ],
      "text/plain": [
       "   year  selling_price  km_driven    fuel transmission         owner    brand  \\\n",
       "0  2007          60000      70000  Petrol       Manual   First Owner   Maruti   \n",
       "1  2007         135000      50000  Petrol       Manual   First Owner   Maruti   \n",
       "2  2012         600000     100000  Diesel       Manual   First Owner  Hyundai   \n",
       "3  2017         250000      46000  Petrol       Manual   First Owner   Datsun   \n",
       "4  2014         450000     141000  Diesel       Manual  Second Owner    Honda   \n",
       "\n",
       "    names  \n",
       "0     800  \n",
       "1   Wagon  \n",
       "2   Verna  \n",
       "3  RediGO  \n",
       "4   Amaze  "
      ]
     },
     "execution_count": 39,
     "metadata": {},
     "output_type": "execute_result"
    }
   ],
   "source": [
    "df1 = df0.drop('name', axis = 1)\n",
    "df1.head()"
   ]
  },
  {
   "cell_type": "code",
   "execution_count": 40,
   "id": "5d949e1c",
   "metadata": {},
   "outputs": [
    {
     "data": {
      "text/plain": [
       "2017    332\n",
       "2015    324\n",
       "2012    323\n",
       "2014    308\n",
       "2013    290\n",
       "2018    283\n",
       "2016    277\n",
       "2011    239\n",
       "2010    203\n",
       "2009    162\n",
       "2019    146\n",
       "2008    126\n",
       "2007    114\n",
       "2006     88\n",
       "2005     58\n",
       "2020     39\n",
       "2004     36\n",
       "2003     21\n",
       "2002     14\n",
       "2001     14\n",
       "2000     11\n",
       "Name: year, dtype: int64"
      ]
     },
     "execution_count": 40,
     "metadata": {},
     "output_type": "execute_result"
    }
   ],
   "source": [
    "df2 = df1[df1['year']>=2000]\n",
    "df2.year.value_counts()"
   ]
  },
  {
   "cell_type": "code",
   "execution_count": 42,
   "id": "30a5f959",
   "metadata": {},
   "outputs": [
    {
     "data": {
      "text/plain": [
       "Maruti           1050\n",
       "Hyundai           624\n",
       "Mahindra          315\n",
       "Tata              291\n",
       "Ford              217\n",
       "Honda             208\n",
       "Toyota            164\n",
       "Chevrolet         148\n",
       "Renault            92\n",
       "Volkswagen         91\n",
       "Nissan             48\n",
       "Skoda              39\n",
       "Datsun             28\n",
       "Fiat               27\n",
       "Audi               26\n",
       "BMW                20\n",
       "Mercedes-Benz      14\n",
       "Land                5\n",
       "Ambassador          1\n",
       "Name: brand, dtype: int64"
      ]
     },
     "execution_count": 42,
     "metadata": {},
     "output_type": "execute_result"
    }
   ],
   "source": [
    "df2['brand'].value_counts()"
   ]
  },
  {
   "cell_type": "markdown",
   "id": "115bdad9",
   "metadata": {},
   "source": [
    "###### Removing the rows whose number of count is less than 15 in brand"
   ]
  },
  {
   "cell_type": "code",
   "execution_count": 43,
   "id": "0a391a62",
   "metadata": {},
   "outputs": [
    {
     "data": {
      "text/plain": [
       "(3388, 8)"
      ]
     },
     "execution_count": 43,
     "metadata": {},
     "output_type": "execute_result"
    }
   ],
   "source": [
    "q = df2.brand.value_counts()\n",
    "df3 = df2[~df2['brand'].isin(q[q < 15].index)]\n",
    "df3.shape"
   ]
  },
  {
   "cell_type": "markdown",
   "id": "513c752f",
   "metadata": {},
   "source": [
    "### Correlation"
   ]
  },
  {
   "cell_type": "code",
   "execution_count": 44,
   "id": "9980f4ad",
   "metadata": {},
   "outputs": [
    {
     "name": "stdout",
     "output_type": "stream",
     "text": [
      "0.5175049203530263\n",
      "-0.20424654694649372\n"
     ]
    }
   ],
   "source": [
    "print(df3['selling_price'].corr(df3['year']))\n",
    "print(df3['km_driven'].corr(df3['selling_price']))\n"
   ]
  },
  {
   "cell_type": "code",
   "execution_count": 45,
   "id": "200c2f0c",
   "metadata": {},
   "outputs": [
    {
     "name": "stderr",
     "output_type": "stream",
     "text": [
      "C:\\Users\\Rahul\\AppData\\Local\\Temp\\ipykernel_2124\\4124915719.py:1: FutureWarning: The default value of numeric_only in DataFrame.corr is deprecated. In a future version, it will default to False. Select only valid columns or specify the value of numeric_only to silence this warning.\n",
      "  corr = df3.corr()\n"
     ]
    },
    {
     "data": {
      "image/png": "[encoded data removed]",
      "text/plain": [
       "<Figure size 640x480 with 2 Axes>"
      ]
     },
     "metadata": {},
     "output_type": "display_data"
    }
   ],
   "source": [
    "corr = df3.corr()\n",
    "sns.heatmap(corr, annot=True, cmap='RdBu')\n",
    "plt.show()"
   ]
  },
  {
   "cell_type": "markdown",
   "id": "34d41653",
   "metadata": {},
   "source": [
    "###  Insights: \n",
    "<br>selling price and year is positively correlated means on increasing year , selling price is also increasing. <br/>\n",
    "\n",
    "selling price and km driven is negatively correlated means on increasing km driven , selling price is decreasing.<br>"
   ]
  },
  {
   "cell_type": "markdown",
   "id": "e603dd3e",
   "metadata": {},
   "source": [
    "### Data Visualizations"
   ]
  },
  {
   "cell_type": "code",
   "execution_count": 49,
   "id": "14e5cd22",
   "metadata": {},
   "outputs": [
    {
     "data": {
      "image/png": "[encoded data removed]",
      "text/plain": [
       "<Figure size 640x480 with 1 Axes>"
      ]
     },
     "metadata": {},
     "output_type": "display_data"
    }
   ],
   "source": [
    "plt.bar(df3.fuel, df3.selling_price, color='orange')\n",
    "plt.xlabel(\"type of fuel\")\n",
    "plt.ylabel(\"selling price\")\n",
    "plt.title(\" selling price vs fuel\")\n",
    "plt.show()"
   ]
  },
  {
   "cell_type": "markdown",
   "id": "d8c2be2a",
   "metadata": {},
   "source": [
    "#### Insights:\n",
    "Diesel vehical have higher selling_price<br>"
   ]
  },
  {
   "cell_type": "markdown",
   "id": "913074f2",
   "metadata": {},
   "source": [
    "###### brand wise selling price mean"
   ]
  },
  {
   "cell_type": "code",
   "execution_count": 50,
   "id": "f565d4e8",
   "metadata": {},
   "outputs": [
    {
     "data": {
      "text/html": [
       "<div>\n",
       "<style scoped>\n",
       "    .dataframe tbody tr th:only-of-type {\n",
       "        vertical-align: middle;\n",
       "    }\n",
       "\n",
       "    .dataframe tbody tr th {\n",
       "        vertical-align: top;\n",
       "    }\n",
       "\n",
       "    .dataframe thead th {\n",
       "        text-align: right;\n",
       "    }\n",
       "</style>\n",
       "<table border=\"1\" class=\"dataframe\">\n",
       "  <thead>\n",
       "    <tr style=\"text-align: right;\">\n",
       "      <th></th>\n",
       "      <th>brand</th>\n",
       "      <th>selling_price</th>\n",
       "    </tr>\n",
       "  </thead>\n",
       "  <tbody>\n",
       "    <tr>\n",
       "      <th>15</th>\n",
       "      <td>Volkswagen</td>\n",
       "      <td>462692.263736</td>\n",
       "    </tr>\n",
       "    <tr>\n",
       "      <th>14</th>\n",
       "      <td>Toyota</td>\n",
       "      <td>834487.750000</td>\n",
       "    </tr>\n",
       "    <tr>\n",
       "      <th>13</th>\n",
       "      <td>Tata</td>\n",
       "      <td>265959.106529</td>\n",
       "    </tr>\n",
       "    <tr>\n",
       "      <th>12</th>\n",
       "      <td>Skoda</td>\n",
       "      <td>486589.743590</td>\n",
       "    </tr>\n",
       "    <tr>\n",
       "      <th>11</th>\n",
       "      <td>Renault</td>\n",
       "      <td>381836.923913</td>\n",
       "    </tr>\n",
       "    <tr>\n",
       "      <th>10</th>\n",
       "      <td>Nissan</td>\n",
       "      <td>418041.604167</td>\n",
       "    </tr>\n",
       "    <tr>\n",
       "      <th>9</th>\n",
       "      <td>Maruti</td>\n",
       "      <td>336502.344762</td>\n",
       "    </tr>\n",
       "    <tr>\n",
       "      <th>8</th>\n",
       "      <td>Mahindra</td>\n",
       "      <td>577152.336508</td>\n",
       "    </tr>\n",
       "    <tr>\n",
       "      <th>7</th>\n",
       "      <td>Hyundai</td>\n",
       "      <td>406447.067308</td>\n",
       "    </tr>\n",
       "    <tr>\n",
       "      <th>6</th>\n",
       "      <td>Honda</td>\n",
       "      <td>535889.375000</td>\n",
       "    </tr>\n",
       "  </tbody>\n",
       "</table>\n",
       "</div>"
      ],
      "text/plain": [
       "         brand  selling_price\n",
       "15  Volkswagen  462692.263736\n",
       "14      Toyota  834487.750000\n",
       "13        Tata  265959.106529\n",
       "12       Skoda  486589.743590\n",
       "11     Renault  381836.923913\n",
       "10      Nissan  418041.604167\n",
       "9       Maruti  336502.344762\n",
       "8     Mahindra  577152.336508\n",
       "7      Hyundai  406447.067308\n",
       "6        Honda  535889.375000"
      ]
     },
     "execution_count": 50,
     "metadata": {},
     "output_type": "execute_result"
    }
   ],
   "source": [
    "q = df3.groupby('brand')['selling_price'].mean().reset_index()\n",
    "q1 = q.sort_values(by='brand',ascending=False).head(10)\n",
    "q1"
   ]
  },
  {
   "cell_type": "code",
   "execution_count": 51,
   "id": "9fbe63a8",
   "metadata": {},
   "outputs": [
    {
     "data": {
      "image/png": "[encoded data removed]",
      "text/plain": [
       "<Figure size 640x480 with 1 Axes>"
      ]
     },
     "metadata": {},
     "output_type": "display_data"
    }
   ],
   "source": [
    "plt.bar(q1.brand, q1.selling_price,color='yellow')\n",
    "plt.xlabel(\"Brand\")\n",
    "plt.ylabel(\"selling price\")\n",
    "plt.title(\"brand wise selling price average\")\n",
    "plt.xticks(rotation=60)\n",
    "plt.show()"
   ]
  },
  {
   "cell_type": "markdown",
   "id": "d58c3e58",
   "metadata": {},
   "source": [
    "#### Insights\n",
    "Toyota brand has highest selling price mean<br>"
   ]
  },
  {
   "cell_type": "code",
   "execution_count": 52,
   "id": "27fa1a1b",
   "metadata": {},
   "outputs": [
    {
     "data": {
      "image/png": "[encoded data removed]",
      "text/plain": [
       "<Figure size 640x480 with 1 Axes>"
      ]
     },
     "metadata": {},
     "output_type": "display_data"
    }
   ],
   "source": [
    "plt.bar(df3.year, df3.selling_price,color='green')\n",
    "plt.xlabel(\"Year\")\n",
    "plt.ylabel(\"selling price\")\n",
    "plt.title(\"Year vs selling price\")\n",
    "plt.show()"
   ]
  },
  {
   "cell_type": "markdown",
   "id": "c1442083",
   "metadata": {},
   "source": [
    "#### Insights \n",
    "On increasing year, selling price is also increasing<br> "
   ]
  },
  {
   "cell_type": "code",
   "execution_count": 53,
   "id": "c24b7275",
   "metadata": {},
   "outputs": [
    {
     "data": {
      "image/png": "[encoded data removed]",
      "text/plain": [
       "<Figure size 640x480 with 1 Axes>"
      ]
     },
     "metadata": {},
     "output_type": "display_data"
    }
   ],
   "source": [
    "sns.countplot(y=df3['brand'], order=df3['brand'].value_counts()[:5].sort_values(ascending=False).index)\n",
    "plt.title(\"Top 5 most bought Cars\")\n",
    "plt.show()"
   ]
  },
  {
   "cell_type": "markdown",
   "id": "187723bb",
   "metadata": {},
   "source": [
    "#### Insights\n",
    "Brand \"Maruti\" is the most bought car<br>"
   ]
  },
  {
   "cell_type": "markdown",
   "id": "ebac7481",
   "metadata": {},
   "source": [
    "### Outlier datection and removal"
   ]
  },
  {
   "cell_type": "markdown",
   "id": "db59894c",
   "metadata": {},
   "source": [
    "#### Box plot for selling price"
   ]
  },
  {
   "cell_type": "code",
   "execution_count": 54,
   "id": "e9277f6f",
   "metadata": {},
   "outputs": [
    {
     "data": {
      "image/png": "[encoded data removed]",
      "text/plain": [
       "<Figure size 640x480 with 1 Axes>"
      ]
     },
     "metadata": {},
     "output_type": "display_data"
    }
   ],
   "source": [
    "plt.boxplot(df3.selling_price)\n",
    "plt.show()"
   ]
  },
  {
   "cell_type": "code",
   "execution_count": 55,
   "id": "7eed3aeb",
   "metadata": {},
   "outputs": [
    {
     "data": {
      "image/png": "[encoded data removed]",
      "text/plain": [
       "<Figure size 640x480 with 1 Axes>"
      ]
     },
     "metadata": {},
     "output_type": "display_data"
    }
   ],
   "source": [
    "plt.boxplot(df3.km_driven)\n",
    "plt.show()"
   ]
  },
  {
   "cell_type": "markdown",
   "id": "2eefa85a",
   "metadata": {},
   "source": [
    "#### finding inter quartile range for outlier removal in selling price"
   ]
  },
  {
   "cell_type": "code",
   "execution_count": 56,
   "id": "b24c07d3",
   "metadata": {},
   "outputs": [
    {
     "name": "stdout",
     "output_type": "stream",
     "text": [
      "-378125.50000000006\n",
      "795625.1000000001\n"
     ]
    }
   ],
   "source": [
    "q1 =2.087498e+05\n",
    "q3 = 6.000000e+05\n",
    "iqr = q3 - q1\n",
    "low = q1 - 1.5*iqr\n",
    "high = q1 + 1.5*iqr\n",
    "print(low)\n",
    "print(high)"
   ]
  },
  {
   "cell_type": "code",
   "execution_count": 57,
   "id": "204b9797",
   "metadata": {},
   "outputs": [
    {
     "name": "stdout",
     "output_type": "stream",
     "text": [
      "-47500.0\n",
      "117500.0\n"
     ]
    }
   ],
   "source": [
    "q1 =35000\n",
    "q3 = 90000\n",
    "iqr = q3 - q1\n",
    "low = q1 - 1.5*iqr\n",
    "high = q1 + 1.5*iqr\n",
    "print(low)\n",
    "print(high)"
   ]
  },
  {
   "cell_type": "code",
   "execution_count": 58,
   "id": "0ac0d59e",
   "metadata": {},
   "outputs": [
    {
     "name": "stdout",
     "output_type": "stream",
     "text": [
      "20000\n",
      "8900000\n",
      "1\n",
      "806599\n"
     ]
    }
   ],
   "source": [
    "print(min(df.selling_price))\n",
    "print(max(df.selling_price))\n",
    "print(min(df.km_driven))\n",
    "print(max(df.km_driven))"
   ]
  },
  {
   "cell_type": "markdown",
   "id": "492d870e",
   "metadata": {},
   "source": [
    "#### Removing Oulier from selling price"
   ]
  },
  {
   "cell_type": "code",
   "execution_count": 66,
   "id": "36ec47b5",
   "metadata": {},
   "outputs": [
    {
     "name": "stdout",
     "output_type": "stream",
     "text": [
      "(2884, 8)\n"
     ]
    },
    {
     "data": {
      "text/html": [
       "<div>\n",
       "<style scoped>\n",
       "    .dataframe tbody tr th:only-of-type {\n",
       "        vertical-align: middle;\n",
       "    }\n",
       "\n",
       "    .dataframe tbody tr th {\n",
       "        vertical-align: top;\n",
       "    }\n",
       "\n",
       "    .dataframe thead th {\n",
       "        text-align: right;\n",
       "    }\n",
       "</style>\n",
       "<table border=\"1\" class=\"dataframe\">\n",
       "  <thead>\n",
       "    <tr style=\"text-align: right;\">\n",
       "      <th></th>\n",
       "      <th>year</th>\n",
       "      <th>selling_price</th>\n",
       "      <th>km_driven</th>\n",
       "      <th>fuel</th>\n",
       "      <th>transmission</th>\n",
       "      <th>owner</th>\n",
       "      <th>brand</th>\n",
       "      <th>names</th>\n",
       "    </tr>\n",
       "  </thead>\n",
       "  <tbody>\n",
       "    <tr>\n",
       "      <th>0</th>\n",
       "      <td>2007</td>\n",
       "      <td>60000</td>\n",
       "      <td>70000</td>\n",
       "      <td>Petrol</td>\n",
       "      <td>Manual</td>\n",
       "      <td>First Owner</td>\n",
       "      <td>Maruti</td>\n",
       "      <td>800</td>\n",
       "    </tr>\n",
       "    <tr>\n",
       "      <th>1</th>\n",
       "      <td>2007</td>\n",
       "      <td>135000</td>\n",
       "      <td>50000</td>\n",
       "      <td>Petrol</td>\n",
       "      <td>Manual</td>\n",
       "      <td>First Owner</td>\n",
       "      <td>Maruti</td>\n",
       "      <td>Wagon</td>\n",
       "    </tr>\n",
       "    <tr>\n",
       "      <th>2</th>\n",
       "      <td>2012</td>\n",
       "      <td>600000</td>\n",
       "      <td>100000</td>\n",
       "      <td>Diesel</td>\n",
       "      <td>Manual</td>\n",
       "      <td>First Owner</td>\n",
       "      <td>Hyundai</td>\n",
       "      <td>Verna</td>\n",
       "    </tr>\n",
       "    <tr>\n",
       "      <th>3</th>\n",
       "      <td>2017</td>\n",
       "      <td>250000</td>\n",
       "      <td>46000</td>\n",
       "      <td>Petrol</td>\n",
       "      <td>Manual</td>\n",
       "      <td>First Owner</td>\n",
       "      <td>Datsun</td>\n",
       "      <td>RediGO</td>\n",
       "    </tr>\n",
       "    <tr>\n",
       "      <th>4</th>\n",
       "      <td>2014</td>\n",
       "      <td>450000</td>\n",
       "      <td>141000</td>\n",
       "      <td>Diesel</td>\n",
       "      <td>Manual</td>\n",
       "      <td>Second Owner</td>\n",
       "      <td>Honda</td>\n",
       "      <td>Amaze</td>\n",
       "    </tr>\n",
       "  </tbody>\n",
       "</table>\n",
       "</div>"
      ],
      "text/plain": [
       "   year  selling_price  km_driven    fuel transmission         owner    brand  \\\n",
       "0  2007          60000      70000  Petrol       Manual   First Owner   Maruti   \n",
       "1  2007         135000      50000  Petrol       Manual   First Owner   Maruti   \n",
       "2  2012         600000     100000  Diesel       Manual   First Owner  Hyundai   \n",
       "3  2017         250000      46000  Petrol       Manual   First Owner   Datsun   \n",
       "4  2014         450000     141000  Diesel       Manual  Second Owner    Honda   \n",
       "\n",
       "    names  \n",
       "0     800  \n",
       "1   Wagon  \n",
       "2   Verna  \n",
       "3  RediGO  \n",
       "4   Amaze  "
      ]
     },
     "execution_count": 66,
     "metadata": {},
     "output_type": "execute_result"
    }
   ],
   "source": [
    "df4 = df3[df3['selling_price']<=700000]  \n",
    "print(df4.shape)\n",
    "df4.head()"
   ]
  },
  {
   "cell_type": "code",
   "execution_count": 67,
   "id": "15458d69",
   "metadata": {},
   "outputs": [
    {
     "data": {
      "text/plain": [
       "<function matplotlib.pyplot.show(close=None, block=None)>"
      ]
     },
     "execution_count": 67,
     "metadata": {},
     "output_type": "execute_result"
    },
    {
     "data": {
      "image/png": "[encoded data removed]",
      "text/plain": [
       "<Figure size 640x480 with 1 Axes>"
      ]
     },
     "metadata": {},
     "output_type": "display_data"
    }
   ],
   "source": [
    "plt.boxplot(df4.selling_price)\n",
    "plt.show"
   ]
  },
  {
   "cell_type": "code",
   "execution_count": 68,
   "id": "a570a0eb",
   "metadata": {},
   "outputs": [
    {
     "name": "stdout",
     "output_type": "stream",
     "text": [
      "(2442, 8)\n"
     ]
    },
    {
     "data": {
      "text/html": [
       "<div>\n",
       "<style scoped>\n",
       "    .dataframe tbody tr th:only-of-type {\n",
       "        vertical-align: middle;\n",
       "    }\n",
       "\n",
       "    .dataframe tbody tr th {\n",
       "        vertical-align: top;\n",
       "    }\n",
       "\n",
       "    .dataframe thead th {\n",
       "        text-align: right;\n",
       "    }\n",
       "</style>\n",
       "<table border=\"1\" class=\"dataframe\">\n",
       "  <thead>\n",
       "    <tr style=\"text-align: right;\">\n",
       "      <th></th>\n",
       "      <th>year</th>\n",
       "      <th>selling_price</th>\n",
       "      <th>km_driven</th>\n",
       "      <th>fuel</th>\n",
       "      <th>transmission</th>\n",
       "      <th>owner</th>\n",
       "      <th>brand</th>\n",
       "      <th>names</th>\n",
       "    </tr>\n",
       "  </thead>\n",
       "  <tbody>\n",
       "    <tr>\n",
       "      <th>0</th>\n",
       "      <td>2007</td>\n",
       "      <td>60000</td>\n",
       "      <td>70000</td>\n",
       "      <td>Petrol</td>\n",
       "      <td>Manual</td>\n",
       "      <td>First Owner</td>\n",
       "      <td>Maruti</td>\n",
       "      <td>800</td>\n",
       "    </tr>\n",
       "    <tr>\n",
       "      <th>1</th>\n",
       "      <td>2007</td>\n",
       "      <td>135000</td>\n",
       "      <td>50000</td>\n",
       "      <td>Petrol</td>\n",
       "      <td>Manual</td>\n",
       "      <td>First Owner</td>\n",
       "      <td>Maruti</td>\n",
       "      <td>Wagon</td>\n",
       "    </tr>\n",
       "    <tr>\n",
       "      <th>2</th>\n",
       "      <td>2012</td>\n",
       "      <td>600000</td>\n",
       "      <td>100000</td>\n",
       "      <td>Diesel</td>\n",
       "      <td>Manual</td>\n",
       "      <td>First Owner</td>\n",
       "      <td>Hyundai</td>\n",
       "      <td>Verna</td>\n",
       "    </tr>\n",
       "    <tr>\n",
       "      <th>3</th>\n",
       "      <td>2017</td>\n",
       "      <td>250000</td>\n",
       "      <td>46000</td>\n",
       "      <td>Petrol</td>\n",
       "      <td>Manual</td>\n",
       "      <td>First Owner</td>\n",
       "      <td>Datsun</td>\n",
       "      <td>RediGO</td>\n",
       "    </tr>\n",
       "    <tr>\n",
       "      <th>6</th>\n",
       "      <td>2016</td>\n",
       "      <td>550000</td>\n",
       "      <td>25000</td>\n",
       "      <td>Petrol</td>\n",
       "      <td>Manual</td>\n",
       "      <td>First Owner</td>\n",
       "      <td>Hyundai</td>\n",
       "      <td>Xcent</td>\n",
       "    </tr>\n",
       "  </tbody>\n",
       "</table>\n",
       "</div>"
      ],
      "text/plain": [
       "   year  selling_price  km_driven    fuel transmission        owner    brand  \\\n",
       "0  2007          60000      70000  Petrol       Manual  First Owner   Maruti   \n",
       "1  2007         135000      50000  Petrol       Manual  First Owner   Maruti   \n",
       "2  2012         600000     100000  Diesel       Manual  First Owner  Hyundai   \n",
       "3  2017         250000      46000  Petrol       Manual  First Owner   Datsun   \n",
       "6  2016         550000      25000  Petrol       Manual  First Owner  Hyundai   \n",
       "\n",
       "    names  \n",
       "0     800  \n",
       "1   Wagon  \n",
       "2   Verna  \n",
       "3  RediGO  \n",
       "6   Xcent  "
      ]
     },
     "execution_count": 68,
     "metadata": {},
     "output_type": "execute_result"
    }
   ],
   "source": [
    "df5 = df4[df4['km_driven']<=110000]  #110000\n",
    "print(df5.shape)\n",
    "df5.head()"
   ]
  },
  {
   "cell_type": "code",
   "execution_count": 69,
   "id": "181149fb",
   "metadata": {},
   "outputs": [
    {
     "data": {
      "text/plain": [
       "<function matplotlib.pyplot.show(close=None, block=None)>"
      ]
     },
     "execution_count": 69,
     "metadata": {},
     "output_type": "execute_result"
    },
    {
     "data": {
      "image/png": "[encoded data removed]",
      "text/plain": [
       "<Figure size 640x480 with 1 Axes>"
      ]
     },
     "metadata": {},
     "output_type": "display_data"
    }
   ],
   "source": [
    "plt.boxplot(df5.km_driven)\n",
    "plt.show"
   ]
  },
  {
   "cell_type": "code",
   "execution_count": 70,
   "id": "c31582d8",
   "metadata": {},
   "outputs": [
    {
     "data": {
      "text/plain": [
       "year              int64\n",
       "selling_price     int64\n",
       "km_driven         int64\n",
       "fuel             object\n",
       "transmission     object\n",
       "owner            object\n",
       "brand            object\n",
       "names            object\n",
       "dtype: object"
      ]
     },
     "execution_count": 70,
     "metadata": {},
     "output_type": "execute_result"
    }
   ],
   "source": [
    "df5.dtypes"
   ]
  },
  {
   "cell_type": "code",
   "execution_count": 73,
   "id": "b830ee55",
   "metadata": {},
   "outputs": [
    {
     "data": {
      "text/plain": [
       "Petrol    1455\n",
       "Diesel     934\n",
       "CNG         36\n",
       "LPG         17\n",
       "Name: fuel, dtype: int64"
      ]
     },
     "execution_count": 73,
     "metadata": {},
     "output_type": "execute_result"
    }
   ],
   "source": [
    "df5['fuel'].value_counts()"
   ]
  },
  {
   "cell_type": "code",
   "execution_count": 74,
   "id": "3a5ecc47",
   "metadata": {},
   "outputs": [
    {
     "data": {
      "text/plain": [
       "Maruti        866\n",
       "Hyundai       510\n",
       "Tata          207\n",
       "Mahindra      156\n",
       "Honda         142\n",
       "Ford          136\n",
       "Chevrolet     123\n",
       "Renault        81\n",
       "Volkswagen     65\n",
       "Toyota         45\n",
       "Nissan         38\n",
       "Datsun         28\n",
       "Skoda          23\n",
       "Fiat           20\n",
       "BMW             1\n",
       "Audi            1\n",
       "Name: brand, dtype: int64"
      ]
     },
     "execution_count": 74,
     "metadata": {},
     "output_type": "execute_result"
    }
   ],
   "source": [
    "df5['brand'].value_counts()"
   ]
  },
  {
   "cell_type": "code",
   "execution_count": 75,
   "id": "3c76e843",
   "metadata": {},
   "outputs": [
    {
     "data": {
      "text/plain": [
       "Manual       2337\n",
       "Automatic     105\n",
       "Name: transmission, dtype: int64"
      ]
     },
     "execution_count": 75,
     "metadata": {},
     "output_type": "execute_result"
    }
   ],
   "source": [
    "df5['transmission'].value_counts()"
   ]
  },
  {
   "cell_type": "code",
   "execution_count": 76,
   "id": "399cdbea",
   "metadata": {},
   "outputs": [
    {
     "name": "stderr",
     "output_type": "stream",
     "text": [
      "C:\\Users\\Rahul\\AppData\\Local\\Temp\\ipykernel_2124\\3596544923.py:1: SettingWithCopyWarning: \n",
      "A value is trying to be set on a copy of a slice from a DataFrame.\n",
      "Try using .loc[row_indexer,col_indexer] = value instead\n",
      "\n",
      "See the caveats in the documentation: https://pandas.pydata.org/pandas-docs/stable/user_guide/indexing.html#returning-a-view-versus-a-copy\n",
      "  df5['company'] = df5['brand'] +\" \"+ df5['names']\n"
     ]
    },
    {
     "data": {
      "text/html": [
       "<div>\n",
       "<style scoped>\n",
       "    .dataframe tbody tr th:only-of-type {\n",
       "        vertical-align: middle;\n",
       "    }\n",
       "\n",
       "    .dataframe tbody tr th {\n",
       "        vertical-align: top;\n",
       "    }\n",
       "\n",
       "    .dataframe thead th {\n",
       "        text-align: right;\n",
       "    }\n",
       "</style>\n",
       "<table border=\"1\" class=\"dataframe\">\n",
       "  <thead>\n",
       "    <tr style=\"text-align: right;\">\n",
       "      <th></th>\n",
       "      <th>year</th>\n",
       "      <th>selling_price</th>\n",
       "      <th>km_driven</th>\n",
       "      <th>fuel</th>\n",
       "      <th>transmission</th>\n",
       "      <th>owner</th>\n",
       "      <th>brand</th>\n",
       "      <th>names</th>\n",
       "      <th>company</th>\n",
       "    </tr>\n",
       "  </thead>\n",
       "  <tbody>\n",
       "    <tr>\n",
       "      <th>0</th>\n",
       "      <td>2007</td>\n",
       "      <td>60000</td>\n",
       "      <td>70000</td>\n",
       "      <td>Petrol</td>\n",
       "      <td>Manual</td>\n",
       "      <td>First Owner</td>\n",
       "      <td>Maruti</td>\n",
       "      <td>800</td>\n",
       "      <td>Maruti 800</td>\n",
       "    </tr>\n",
       "    <tr>\n",
       "      <th>1</th>\n",
       "      <td>2007</td>\n",
       "      <td>135000</td>\n",
       "      <td>50000</td>\n",
       "      <td>Petrol</td>\n",
       "      <td>Manual</td>\n",
       "      <td>First Owner</td>\n",
       "      <td>Maruti</td>\n",
       "      <td>Wagon</td>\n",
       "      <td>Maruti Wagon</td>\n",
       "    </tr>\n",
       "    <tr>\n",
       "      <th>2</th>\n",
       "      <td>2012</td>\n",
       "      <td>600000</td>\n",
       "      <td>100000</td>\n",
       "      <td>Diesel</td>\n",
       "      <td>Manual</td>\n",
       "      <td>First Owner</td>\n",
       "      <td>Hyundai</td>\n",
       "      <td>Verna</td>\n",
       "      <td>Hyundai Verna</td>\n",
       "    </tr>\n",
       "    <tr>\n",
       "      <th>3</th>\n",
       "      <td>2017</td>\n",
       "      <td>250000</td>\n",
       "      <td>46000</td>\n",
       "      <td>Petrol</td>\n",
       "      <td>Manual</td>\n",
       "      <td>First Owner</td>\n",
       "      <td>Datsun</td>\n",
       "      <td>RediGO</td>\n",
       "      <td>Datsun RediGO</td>\n",
       "    </tr>\n",
       "    <tr>\n",
       "      <th>6</th>\n",
       "      <td>2016</td>\n",
       "      <td>550000</td>\n",
       "      <td>25000</td>\n",
       "      <td>Petrol</td>\n",
       "      <td>Manual</td>\n",
       "      <td>First Owner</td>\n",
       "      <td>Hyundai</td>\n",
       "      <td>Xcent</td>\n",
       "      <td>Hyundai Xcent</td>\n",
       "    </tr>\n",
       "  </tbody>\n",
       "</table>\n",
       "</div>"
      ],
      "text/plain": [
       "   year  selling_price  km_driven    fuel transmission        owner    brand  \\\n",
       "0  2007          60000      70000  Petrol       Manual  First Owner   Maruti   \n",
       "1  2007         135000      50000  Petrol       Manual  First Owner   Maruti   \n",
       "2  2012         600000     100000  Diesel       Manual  First Owner  Hyundai   \n",
       "3  2017         250000      46000  Petrol       Manual  First Owner   Datsun   \n",
       "6  2016         550000      25000  Petrol       Manual  First Owner  Hyundai   \n",
       "\n",
       "    names        company  \n",
       "0     800     Maruti 800  \n",
       "1   Wagon   Maruti Wagon  \n",
       "2   Verna  Hyundai Verna  \n",
       "3  RediGO  Datsun RediGO  \n",
       "6   Xcent  Hyundai Xcent  "
      ]
     },
     "execution_count": 76,
     "metadata": {},
     "output_type": "execute_result"
    }
   ],
   "source": [
    "df5['company'] = df5['brand'] +\" \"+ df5['names']\n",
    "df5.head()"
   ]
  },
  {
   "cell_type": "code",
   "execution_count": 77,
   "id": "6a2a73f1",
   "metadata": {},
   "outputs": [
    {
     "name": "stderr",
     "output_type": "stream",
     "text": [
      "C:\\Users\\Rahul\\AppData\\Local\\Temp\\ipykernel_2124\\2239342265.py:1: SettingWithCopyWarning: \n",
      "A value is trying to be set on a copy of a slice from a DataFrame\n",
      "\n",
      "See the caveats in the documentation: https://pandas.pydata.org/pandas-docs/stable/user_guide/indexing.html#returning-a-view-versus-a-copy\n",
      "  df5.drop(['names','brand'], axis=1,inplace=True)\n"
     ]
    }
   ],
   "source": [
    "df5.drop(['names','brand'], axis=1,inplace=True)"
   ]
  },
  {
   "cell_type": "code",
   "execution_count": 78,
   "id": "28ee55fd",
   "metadata": {},
   "outputs": [
    {
     "data": {
      "text/plain": [
       "(2442, 7)"
      ]
     },
     "execution_count": 78,
     "metadata": {},
     "output_type": "execute_result"
    }
   ],
   "source": [
    "df5.head()\n",
    "df5.shape"
   ]
  },
  {
   "cell_type": "markdown",
   "id": "d5b9080c",
   "metadata": {},
   "source": [
    "#### Clensing the data"
   ]
  },
  {
   "cell_type": "code",
   "execution_count": 80,
   "id": "db4d52e1",
   "metadata": {},
   "outputs": [],
   "source": [
    "df5.to_csv('Cleaned_data.csv', index=False)"
   ]
  },
  {
   "cell_type": "markdown",
   "id": "aebfb73f",
   "metadata": {},
   "source": [
    "## seperating dependent and dependent variable"
   ]
  },
  {
   "cell_type": "code",
   "execution_count": 81,
   "id": "ec6951a4",
   "metadata": {},
   "outputs": [
    {
     "data": {
      "text/html": [
       "<div>\n",
       "<style scoped>\n",
       "    .dataframe tbody tr th:only-of-type {\n",
       "        vertical-align: middle;\n",
       "    }\n",
       "\n",
       "    .dataframe tbody tr th {\n",
       "        vertical-align: top;\n",
       "    }\n",
       "\n",
       "    .dataframe thead th {\n",
       "        text-align: right;\n",
       "    }\n",
       "</style>\n",
       "<table border=\"1\" class=\"dataframe\">\n",
       "  <thead>\n",
       "    <tr style=\"text-align: right;\">\n",
       "      <th></th>\n",
       "      <th>year</th>\n",
       "      <th>km_driven</th>\n",
       "      <th>fuel</th>\n",
       "      <th>transmission</th>\n",
       "      <th>owner</th>\n",
       "      <th>company</th>\n",
       "    </tr>\n",
       "  </thead>\n",
       "  <tbody>\n",
       "    <tr>\n",
       "      <th>0</th>\n",
       "      <td>2007</td>\n",
       "      <td>70000</td>\n",
       "      <td>Petrol</td>\n",
       "      <td>Manual</td>\n",
       "      <td>First Owner</td>\n",
       "      <td>Maruti 800</td>\n",
       "    </tr>\n",
       "    <tr>\n",
       "      <th>1</th>\n",
       "      <td>2007</td>\n",
       "      <td>50000</td>\n",
       "      <td>Petrol</td>\n",
       "      <td>Manual</td>\n",
       "      <td>First Owner</td>\n",
       "      <td>Maruti Wagon</td>\n",
       "    </tr>\n",
       "    <tr>\n",
       "      <th>2</th>\n",
       "      <td>2012</td>\n",
       "      <td>100000</td>\n",
       "      <td>Diesel</td>\n",
       "      <td>Manual</td>\n",
       "      <td>First Owner</td>\n",
       "      <td>Hyundai Verna</td>\n",
       "    </tr>\n",
       "    <tr>\n",
       "      <th>3</th>\n",
       "      <td>2017</td>\n",
       "      <td>46000</td>\n",
       "      <td>Petrol</td>\n",
       "      <td>Manual</td>\n",
       "      <td>First Owner</td>\n",
       "      <td>Datsun RediGO</td>\n",
       "    </tr>\n",
       "    <tr>\n",
       "      <th>6</th>\n",
       "      <td>2016</td>\n",
       "      <td>25000</td>\n",
       "      <td>Petrol</td>\n",
       "      <td>Manual</td>\n",
       "      <td>First Owner</td>\n",
       "      <td>Hyundai Xcent</td>\n",
       "    </tr>\n",
       "  </tbody>\n",
       "</table>\n",
       "</div>"
      ],
      "text/plain": [
       "   year  km_driven    fuel transmission        owner        company\n",
       "0  2007      70000  Petrol       Manual  First Owner     Maruti 800\n",
       "1  2007      50000  Petrol       Manual  First Owner   Maruti Wagon\n",
       "2  2012     100000  Diesel       Manual  First Owner  Hyundai Verna\n",
       "3  2017      46000  Petrol       Manual  First Owner  Datsun RediGO\n",
       "6  2016      25000  Petrol       Manual  First Owner  Hyundai Xcent"
      ]
     },
     "execution_count": 81,
     "metadata": {},
     "output_type": "execute_result"
    }
   ],
   "source": [
    "x = df5.drop('selling_price', axis =1)\n",
    "y = df5['selling_price']\n",
    "x.head()"
   ]
  },
  {
   "cell_type": "markdown",
   "id": "e7febcaf",
   "metadata": {},
   "source": [
    "## Spliting training and testing dataset"
   ]
  },
  {
   "cell_type": "code",
   "execution_count": 82,
   "id": "66f45b46",
   "metadata": {},
   "outputs": [
    {
     "name": "stdout",
     "output_type": "stream",
     "text": [
      "(1953, 6)\n",
      "(489, 6)\n",
      "(1953,)\n",
      "(489,)\n"
     ]
    }
   ],
   "source": [
    "from sklearn.model_selection import train_test_split\n",
    "x_train, x_test, y_train,y_test = train_test_split(x,y,test_size = 0.2, random_state=227)\n",
    "print(x_train.shape)\n",
    "print(x_test.shape)\n",
    "print(y_train.shape)\n",
    "print(y_test.shape)"
   ]
  },
  {
   "cell_type": "markdown",
   "id": "6bdd46d6",
   "metadata": {},
   "source": [
    "## Model building and One Hot Encoding"
   ]
  },
  {
   "cell_type": "code",
   "execution_count": 83,
   "id": "6c8337b0",
   "metadata": {},
   "outputs": [],
   "source": [
    "from sklearn.linear_model import LinearRegression\n",
    "from sklearn.metrics import r2_score\n",
    "from sklearn.preprocessing import OneHotEncoder\n",
    "from sklearn.compose import make_column_transformer\n",
    "from sklearn.pipeline import make_pipeline"
   ]
  },
  {
   "cell_type": "code",
   "execution_count": 84,
   "id": "b1d96cdb",
   "metadata": {},
   "outputs": [
    {
     "data": {
      "text/plain": [
       "OneHotEncoder()"
      ]
     },
     "execution_count": 84,
     "metadata": {},
     "output_type": "execute_result"
    }
   ],
   "source": [
    "ohe = OneHotEncoder()\n",
    "ohe.fit(x[['fuel','transmission','owner','company']])"
   ]
  },
  {
   "cell_type": "code",
   "execution_count": 85,
   "id": "42694738",
   "metadata": {},
   "outputs": [
    {
     "data": {
      "text/plain": [
       "[array(['CNG', 'Diesel', 'LPG', 'Petrol'], dtype=object),\n",
       " array(['Automatic', 'Manual'], dtype=object),\n",
       " array(['First Owner', 'Fourth & Above Owner', 'Second Owner',\n",
       "        'Test Drive Car', 'Third Owner'], dtype=object),\n",
       " array(['Audi A6', 'BMW 5', 'Chevrolet Aveo', 'Chevrolet Beat',\n",
       "        'Chevrolet Cruze', 'Chevrolet Enjoy', 'Chevrolet Optra',\n",
       "        'Chevrolet Sail', 'Chevrolet Spark', 'Chevrolet Tavera',\n",
       "        'Datsun GO', 'Datsun RediGO', 'Fiat Grande', 'Fiat Linea',\n",
       "        'Fiat Punto', 'Ford Aspire', 'Ford EcoSport', 'Ford Ecosport',\n",
       "        'Ford Endeavour', 'Ford Fiesta', 'Ford Figo', 'Ford Freestyle',\n",
       "        'Ford Ikon', 'Honda Amaze', 'Honda Brio', 'Honda City',\n",
       "        'Honda Civic', 'Honda Jazz', 'Honda Mobilio', 'Honda WR-V',\n",
       "        'Hyundai Accent', 'Hyundai Creta', 'Hyundai EON',\n",
       "        'Hyundai Elantra', 'Hyundai Elite', 'Hyundai Getz',\n",
       "        'Hyundai Grand', 'Hyundai Santro', 'Hyundai Verna',\n",
       "        'Hyundai Xcent', 'Hyundai i10', 'Hyundai i20', 'Mahindra Bolero',\n",
       "        'Mahindra Jeep', 'Mahindra KUV', 'Mahindra Quanto',\n",
       "        'Mahindra Renault', 'Mahindra Scorpio', 'Mahindra TUV',\n",
       "        'Mahindra Thar', 'Mahindra Verito', 'Mahindra XUV500',\n",
       "        'Mahindra Xylo', 'Maruti 800', 'Maruti A-Star', 'Maruti Alto',\n",
       "        'Maruti Baleno', 'Maruti Celerio', 'Maruti Ciaz', 'Maruti Eeco',\n",
       "        'Maruti Ertiga', 'Maruti Esteem', 'Maruti Ignis', 'Maruti Omni',\n",
       "        'Maruti Ritz', 'Maruti S-Cross', 'Maruti SX4', 'Maruti Swift',\n",
       "        'Maruti Vitara', 'Maruti Wagon', 'Maruti Zen', 'Nissan Micra',\n",
       "        'Nissan Sunny', 'Nissan Terrano', 'Renault Duster', 'Renault KWID',\n",
       "        'Skoda Laura', 'Skoda Rapid', 'Skoda Superb', 'Tata Indica',\n",
       "        'Tata Indigo', 'Tata Manza', 'Tata Nano', 'Tata New', 'Tata Nexon',\n",
       "        'Tata Safari', 'Tata Sumo', 'Tata Tiago', 'Tata Tigor',\n",
       "        'Tata Zest', 'Toyota Corolla', 'Toyota Etios', 'Toyota Innova',\n",
       "        'Volkswagen Ameo', 'Volkswagen Jetta', 'Volkswagen Polo',\n",
       "        'Volkswagen Vento'], dtype=object)]"
      ]
     },
     "execution_count": 85,
     "metadata": {},
     "output_type": "execute_result"
    }
   ],
   "source": [
    "ohe.categories_"
   ]
  },
  {
   "cell_type": "code",
   "execution_count": 86,
   "id": "14d691a6",
   "metadata": {},
   "outputs": [],
   "source": [
    "column_trans = make_column_transformer((OneHotEncoder(categories = ohe.categories_),['fuel','transmission','owner','company']),\n",
    "                                       remainder = 'passthrough')"
   ]
  },
  {
   "cell_type": "code",
   "execution_count": 87,
   "id": "d4fd7f62",
   "metadata": {},
   "outputs": [],
   "source": [
    "lr = LinearRegression()"
   ]
  },
  {
   "cell_type": "code",
   "execution_count": 88,
   "id": "52c312d8",
   "metadata": {},
   "outputs": [],
   "source": [
    "pipe = make_pipeline(column_trans, lr)"
   ]
  },
  {
   "cell_type": "code",
   "execution_count": 89,
   "id": "71f5ecf3",
   "metadata": {},
   "outputs": [
    {
     "data": {
      "text/plain": [
       "Pipeline(steps=[('columntransformer',\n",
       "                 ColumnTransformer(remainder='passthrough',\n",
       "                                   transformers=[('onehotencoder',\n",
       "                                                  OneHotEncoder(categories=[array(['CNG', 'Diesel', 'LPG', 'Petrol'], dtype=object),\n",
       "                                                                            array(['Automatic', 'Manual'], dtype=object),\n",
       "                                                                            array(['First Owner', 'Fourth & Above Owner', 'Second Owner',\n",
       "       'Test Drive Car', 'Third Owner'], dtype=object),\n",
       "                                                                            array(['Audi A6', 'BMW 5'...\n",
       "       'Skoda Laura', 'Skoda Rapid', 'Skoda Superb', 'Tata Indica',\n",
       "       'Tata Indigo', 'Tata Manza', 'Tata Nano', 'Tata New', 'Tata Nexon',\n",
       "       'Tata Safari', 'Tata Sumo', 'Tata Tiago', 'Tata Tigor',\n",
       "       'Tata Zest', 'Toyota Corolla', 'Toyota Etios', 'Toyota Innova',\n",
       "       'Volkswagen Ameo', 'Volkswagen Jetta', 'Volkswagen Polo',\n",
       "       'Volkswagen Vento'], dtype=object)]),\n",
       "                                                  ['fuel', 'transmission',\n",
       "                                                   'owner', 'company'])])),\n",
       "                ('linearregression', LinearRegression())])"
      ]
     },
     "execution_count": 89,
     "metadata": {},
     "output_type": "execute_result"
    }
   ],
   "source": [
    "pipe.fit(x_train, y_train)"
   ]
  },
  {
   "cell_type": "code",
   "execution_count": 90,
   "id": "a106bb01",
   "metadata": {},
   "outputs": [],
   "source": [
    "y_pred =pipe.predict(x_test)"
   ]
  },
  {
   "cell_type": "code",
   "execution_count": 93,
   "id": "40575e0a",
   "metadata": {},
   "outputs": [
    {
     "data": {
      "text/html": [
       "<div>\n",
       "<style scoped>\n",
       "    .dataframe tbody tr th:only-of-type {\n",
       "        vertical-align: middle;\n",
       "    }\n",
       "\n",
       "    .dataframe tbody tr th {\n",
       "        vertical-align: top;\n",
       "    }\n",
       "\n",
       "    .dataframe thead th {\n",
       "        text-align: right;\n",
       "    }\n",
       "</style>\n",
       "<table border=\"1\" class=\"dataframe\">\n",
       "  <thead>\n",
       "    <tr style=\"text-align: right;\">\n",
       "      <th></th>\n",
       "      <th>year</th>\n",
       "      <th>km_driven</th>\n",
       "      <th>fuel</th>\n",
       "      <th>transmission</th>\n",
       "      <th>owner</th>\n",
       "      <th>company</th>\n",
       "    </tr>\n",
       "  </thead>\n",
       "  <tbody>\n",
       "    <tr>\n",
       "      <th>0</th>\n",
       "      <td>2007</td>\n",
       "      <td>70000</td>\n",
       "      <td>Petrol</td>\n",
       "      <td>Manual</td>\n",
       "      <td>First Owner</td>\n",
       "      <td>Maruti 800</td>\n",
       "    </tr>\n",
       "    <tr>\n",
       "      <th>1</th>\n",
       "      <td>2007</td>\n",
       "      <td>50000</td>\n",
       "      <td>Petrol</td>\n",
       "      <td>Manual</td>\n",
       "      <td>First Owner</td>\n",
       "      <td>Maruti Wagon</td>\n",
       "    </tr>\n",
       "    <tr>\n",
       "      <th>2</th>\n",
       "      <td>2012</td>\n",
       "      <td>100000</td>\n",
       "      <td>Diesel</td>\n",
       "      <td>Manual</td>\n",
       "      <td>First Owner</td>\n",
       "      <td>Hyundai Verna</td>\n",
       "    </tr>\n",
       "    <tr>\n",
       "      <th>3</th>\n",
       "      <td>2017</td>\n",
       "      <td>46000</td>\n",
       "      <td>Petrol</td>\n",
       "      <td>Manual</td>\n",
       "      <td>First Owner</td>\n",
       "      <td>Datsun RediGO</td>\n",
       "    </tr>\n",
       "    <tr>\n",
       "      <th>6</th>\n",
       "      <td>2016</td>\n",
       "      <td>25000</td>\n",
       "      <td>Petrol</td>\n",
       "      <td>Manual</td>\n",
       "      <td>First Owner</td>\n",
       "      <td>Hyundai Xcent</td>\n",
       "    </tr>\n",
       "    <tr>\n",
       "      <th>...</th>\n",
       "      <td>...</td>\n",
       "      <td>...</td>\n",
       "      <td>...</td>\n",
       "      <td>...</td>\n",
       "      <td>...</td>\n",
       "      <td>...</td>\n",
       "    </tr>\n",
       "    <tr>\n",
       "      <th>4332</th>\n",
       "      <td>2012</td>\n",
       "      <td>90000</td>\n",
       "      <td>Diesel</td>\n",
       "      <td>Manual</td>\n",
       "      <td>Second Owner</td>\n",
       "      <td>Maruti Ritz</td>\n",
       "    </tr>\n",
       "    <tr>\n",
       "      <th>4334</th>\n",
       "      <td>2014</td>\n",
       "      <td>80000</td>\n",
       "      <td>Diesel</td>\n",
       "      <td>Manual</td>\n",
       "      <td>Second Owner</td>\n",
       "      <td>Hyundai i20</td>\n",
       "    </tr>\n",
       "    <tr>\n",
       "      <th>4335</th>\n",
       "      <td>2014</td>\n",
       "      <td>80000</td>\n",
       "      <td>Diesel</td>\n",
       "      <td>Manual</td>\n",
       "      <td>Second Owner</td>\n",
       "      <td>Hyundai i20</td>\n",
       "    </tr>\n",
       "    <tr>\n",
       "      <th>4336</th>\n",
       "      <td>2009</td>\n",
       "      <td>83000</td>\n",
       "      <td>Petrol</td>\n",
       "      <td>Manual</td>\n",
       "      <td>Second Owner</td>\n",
       "      <td>Maruti 800</td>\n",
       "    </tr>\n",
       "    <tr>\n",
       "      <th>4338</th>\n",
       "      <td>2016</td>\n",
       "      <td>40000</td>\n",
       "      <td>Petrol</td>\n",
       "      <td>Manual</td>\n",
       "      <td>First Owner</td>\n",
       "      <td>Renault KWID</td>\n",
       "    </tr>\n",
       "  </tbody>\n",
       "</table>\n",
       "<p>2442 rows × 6 columns</p>\n",
       "</div>"
      ],
      "text/plain": [
       "      year  km_driven    fuel transmission         owner        company\n",
       "0     2007      70000  Petrol       Manual   First Owner     Maruti 800\n",
       "1     2007      50000  Petrol       Manual   First Owner   Maruti Wagon\n",
       "2     2012     100000  Diesel       Manual   First Owner  Hyundai Verna\n",
       "3     2017      46000  Petrol       Manual   First Owner  Datsun RediGO\n",
       "6     2016      25000  Petrol       Manual   First Owner  Hyundai Xcent\n",
       "...    ...        ...     ...          ...           ...            ...\n",
       "4332  2012      90000  Diesel       Manual  Second Owner    Maruti Ritz\n",
       "4334  2014      80000  Diesel       Manual  Second Owner    Hyundai i20\n",
       "4335  2014      80000  Diesel       Manual  Second Owner    Hyundai i20\n",
       "4336  2009      83000  Petrol       Manual  Second Owner     Maruti 800\n",
       "4338  2016      40000  Petrol       Manual   First Owner   Renault KWID\n",
       "\n",
       "[2442 rows x 6 columns]"
      ]
     },
     "execution_count": 93,
     "metadata": {},
     "output_type": "execute_result"
    }
   ],
   "source": [
    "x"
   ]
  },
  {
   "cell_type": "code",
   "execution_count": 94,
   "id": "a10aa7ed",
   "metadata": {},
   "outputs": [
    {
     "data": {
      "text/plain": [
       "0.7354107000139469"
      ]
     },
     "execution_count": 94,
     "metadata": {},
     "output_type": "execute_result"
    }
   ],
   "source": [
    "r2_score(y_test,y_pred)"
   ]
  },
  {
   "cell_type": "code",
   "execution_count": 95,
   "id": "e3cddaad",
   "metadata": {},
   "outputs": [],
   "source": [
    "# Finding the random state at which model has highest accuracy\n",
    "scores = []\n",
    "for i in range(1000):\n",
    "    x_train, x_test, y_train,y_test = train_test_split(x,y,test_size = 0.2,random_state=i)\n",
    "    lr = LinearRegression()\n",
    "    pipe = make_pipeline(column_trans, lr)\n",
    "    pipe.fit(x_train, y_train)\n",
    "    y_pred =pipe.predict(x_test)\n",
    "    scores.append(r2_score(y_test,y_pred))"
   ]
  },
  {
   "cell_type": "code",
   "execution_count": 96,
   "id": "52a57f32",
   "metadata": {},
   "outputs": [
    {
     "data": {
      "text/plain": [
       "70"
      ]
     },
     "execution_count": 96,
     "metadata": {},
     "output_type": "execute_result"
    }
   ],
   "source": [
    "np.argmax(scores)"
   ]
  },
  {
   "cell_type": "code",
   "execution_count": 97,
   "id": "7ab02740",
   "metadata": {},
   "outputs": [
    {
     "data": {
      "text/plain": [
       "0.8143043297523767"
      ]
     },
     "execution_count": 97,
     "metadata": {},
     "output_type": "execute_result"
    }
   ],
   "source": [
    "scores[np.argmax(scores)]"
   ]
  },
  {
   "cell_type": "markdown",
   "id": "fab10170",
   "metadata": {},
   "source": [
    "## Save The Model"
   ]
  },
  {
   "cell_type": "code",
   "execution_count": 98,
   "id": "356cf62c",
   "metadata": {},
   "outputs": [],
   "source": [
    "import pickle"
   ]
  },
  {
   "cell_type": "code",
   "execution_count": 99,
   "id": "323d25ae",
   "metadata": {},
   "outputs": [],
   "source": [
    "pickle.dump(pipe,open('lr.pkl','wb'))\n",
    "pickle.dump(df5,open('df.pkl','wb'))"
   ]
  },
  {
   "cell_type": "code",
   "execution_count": 103,
   "id": "982f5b06",
   "metadata": {},
   "outputs": [
    {
     "data": {
      "text/plain": [
       "array([137252.77169015])"
      ]
     },
     "execution_count": 103,
     "metadata": {},
     "output_type": "execute_result"
    }
   ],
   "source": [
    "pipe.predict(pd.DataFrame([[2007,50000,'Petrol','Manual','First Owner','Maruti Wagon']],columns=['year','km_driven','fuel','transmission','owner','company']))"
   ]
  },
  {
   "cell_type": "code",
   "execution_count": 104,
   "id": "ddb340d0",
   "metadata": {},
   "outputs": [
    {
     "data": {
      "text/plain": [
       "Index(['year', 'selling_price', 'km_driven', 'fuel', 'transmission', 'owner',\n",
       "       'company'],\n",
       "      dtype='object')"
      ]
     },
     "execution_count": 104,
     "metadata": {},
     "output_type": "execute_result"
    }
   ],
   "source": [
    "df5.columns"
   ]
  },
  {
   "cell_type": "code",
   "execution_count": null,
   "id": "ab9bb221",
   "metadata": {},
   "outputs": [],
   "source": [
    "pipe.predict(pd.DataFrame([[1992,50000,'Petrol','Manual','First Owner','Maruti','800']],columns=['year','km_driven','fuel','transmission','owner','brand','names']))"
   ]
  },
  {
   "cell_type": "code",
   "execution_count": null,
   "id": "57a70182",
   "metadata": {},
   "outputs": [],
   "source": []
  },
  {
   "cell_type": "code",
   "execution_count": null,
   "id": "8741db8f",
   "metadata": {},
   "outputs": [],
   "source": []
  }
 ],
 "metadata": {
  "kernelspec": {
   "display_name": "Python 3 (ipykernel)",
   "language": "python",
   "name": "python3"
  },
  "language_info": {
   "codemirror_mode": {
    "name": "ipython",
    "version": 3
   },
   "file_extension": ".py",
   "mimetype": "text/x-python",
   "name": "python",
   "nbconvert_exporter": "python",
   "pygments_lexer": "ipython3",
   "version": "3.9.13"
  }
 },
 "nbformat": 4,
 "nbformat_minor": 5
}
